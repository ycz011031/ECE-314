{
 "cells": [
  {
   "cell_type": "markdown",
   "metadata": {},
   "source": [
    "# Lab 7: Introduction to Markov chains and random graphs"
   ]
  },
  {
   "cell_type": "markdown",
   "metadata": {},
   "source": [
    "In this lab we will be looking at Markov Processes.  Below is the code to import the modules we will be using throughout this lab."
   ]
  },
  {
   "cell_type": "code",
   "execution_count": 1,
   "metadata": {},
   "outputs": [
    {
     "name": "stdout",
     "output_type": "stream",
     "text": [
      "Modules Imported!\n"
     ]
    }
   ],
   "source": [
    "%matplotlib inline\n",
    "import matplotlib.pyplot as plt\n",
    "import matplotlib.image as img\n",
    "import numpy as np\n",
    "import scipy as sp\n",
    "import scipy.stats as st\n",
    "import pickle as pkl\n",
    "import csv as csv\n",
    "import networkx as nx  # If using your own computer may need to install networkx \n",
    "print (\"Modules Imported!\")"
   ]
  },
  {
   "cell_type": "markdown",
   "metadata": {},
   "source": [
    "## Introduction to Markov Chains:"
   ]
  },
  {
   "cell_type": "markdown",
   "metadata": {},
   "source": [
    "A Markov chain $(X[t]: t\\geq 0)$ is a sequence of random variables such that the distribution of each variable is determined by the random variable before it.  Equivalently, it is a sequence of states visited by a form of finite state machine with random transitions.  To describe how to generate the chain we specify the initial probability distribution $\\pi_0$ and a one-step transition probability matrix $P$.   We assume there is a finite state space described by {0,1,, . . . , $n-1$} for some $n$.  The intial distribution, $\\pi(0)$, should be a probability vector (nonnegative entries with sum equal to one) of length $n$.   It consists of the probability the process is in a given state at time zero: ${\\pi_i(0)} = P\\{X[0]=i\\}$ for $0\\leq i \\leq n-1.$    The matrix $P$ is an $n\\times n$ matrix such that each row of the matrix is a probability vector.   If the state of the Markov chain at time $t-1$ is $i$ (in other words, if $X[t-1]=i$), then the (conditional) probability distribution of $X[t]$, the state at time $t$, is given by the ith row of $P.$ Additionally, we can look at the individual entries: $p_{ij}=P\\left\\{X[t]=j \\; \\big| \\; X[t-1]=i\\right\\}$.  Below is a class that can be used to create a Markov chain.  An object in this class is created with specified values of $\\pi_0$ and $P$, and can be used to calculate the state distribution at any time or to generate a sample path (i.e. a variate of the sequence of states) of the Markov chain.  \n",
    "\n",
    "The state distributions are determined recursively as follows.  If $$\\pi_i(t)=P\\{X[t]=i\\}$$ then by the law of total probability, $$\\pi_j(t)= P\\{X[t]=j\\}=\\sum_i P\\{X[t-1]=i,X[t]=j\\} =\\sum_i \\pi_i(t-1)p_{i,j}$$  That is, if we view $\\pi(t)$ as a row vector for all $t,$ then $\\pi(t)=\\pi(t-1)P,$  where we have used multiplication of a row vector by a matrix.  (A nice introduction to Markov chains is given on wikipedia.)"
   ]
  },
  {
   "cell_type": "code",
   "execution_count": 2,
   "metadata": {},
   "outputs": [
    {
     "name": "stdout",
     "output_type": "stream",
     "text": [
      "Simulated state sequence\n",
      "[1 1 1 1 1 1 1 1 1 1 1 1 1 1 1 1 1 1 1 0 0 0 0 0 0 1 1 1 1 1 1 1 1 1 1 1 1\n",
      " 1 1 0 0 0 0 0 0 0 1 0 0 0 0 0 0 0 1 0 0 0 0 0 0 0 0 1 1 1 1 1 1 1 0 0 0 0\n",
      " 0 0 0 0 0 0 1 1 1 1 1 1 1 0 0 0 0 0 0 1 1 1 1 1 1 1]\n",
      "Distribution at time 0 : [0.1 0.9]\n",
      "Distribution at time 1 : [0.18 0.82]\n",
      "Distribution at time 2 : [0.244 0.756]\n",
      "Distribution at time 3 : [0.2952 0.7048]\n",
      "Distribution at time 4 : [0.33616 0.66384]\n",
      "Distribution at time 5 : [0.368928 0.631072]\n",
      "Distribution at time 6 : [0.3951424 0.6048576]\n",
      "Distribution at time 7 : [0.41611392 0.58388608]\n",
      "Distribution at time 8 : [0.43289114 0.56710886]\n",
      "Distribution at time 9 : [0.44631291 0.55368709]\n",
      "Distribution at time 10 : [0.45705033 0.54294967]\n",
      "Distribution at time 11 : [0.46564026 0.53435974]\n",
      "Distribution at time 12 : [0.47251221 0.52748779]\n",
      "Distribution at time 13 : [0.47800977 0.52199023]\n",
      "Distribution at time 14 : [0.48240781 0.51759219]\n",
      "Distribution at time 15 : [0.48592625 0.51407375]\n",
      "Distribution at time 16 : [0.488741 0.511259]\n",
      "Distribution at time 17 : [0.4909928 0.5090072]\n",
      "Distribution at time 18 : [0.49279424 0.50720576]\n",
      "Distribution at time 19 : [0.49423539 0.50576461]\n"
     ]
    }
   ],
   "source": [
    "# Markov chain object similar to random variable objects in scipy.stats (st)\n",
    "\n",
    "class Markov_chain:\n",
    "    def __init__(self, P, pi0):   # The transition probability matrix and initial distribution are passed\n",
    "        self.P = P \n",
    "        self.pi0 = pi0\n",
    "        self.n=np.size(pi0)\n",
    "        if np.shape(P) != (self.n,self.n):\n",
    "            print (\"Error: Shape of P doesn't match pi0\")\n",
    "   \n",
    "    def rvs(self,T):     # produce a length T segment of variates of the random process\n",
    "        X = [np.random.choice(self.n, p=self.pi0)] \n",
    "        for t in range(1,T):\n",
    "            X.append(np.random.choice(self.n, p=self.P[X[t-1],:]))\n",
    "        return np.array(X)\n",
    "    \n",
    "    def pi(self,t):    # produce probability distribution at time t\n",
    "        pi_new=self.pi0\n",
    "        for s in range(t):\n",
    "            pi_new = np.dot(pi_new, P)    # one step update of probability distribution\n",
    "        return pi_new\n",
    "\n",
    "# An example of how you can use the class to create and run through a simple two state chain\n",
    "P=np.array([[0.9,0.1],[0.1,0.9]])\n",
    "pi0=np.array([0.1,0.9])\n",
    "print ('Simulated state sequence')\n",
    "markov=Markov_chain(P,pi0)  \n",
    "print (markov.rvs(100))\n",
    "for t in range(20):\n",
    "    print (\"Distribution at time\", t, \":\", markov.pi(t))"
   ]
  },
  {
   "cell_type": "markdown",
   "metadata": {},
   "source": [
    "We won't go into this deeply, but notice how as the distributions change in time, they appear to be converging. For some Markov chains, there exists a limit for the distribution. If this occurs then the limit distribution $\\pi$ satisfies $\\pi = \\pi P$ and $\\pi$ is called an *equilibrium distribution.*\n",
    "\n",
    "<br>**<SPAN style=\"BACKGROUND-COLOR: #C0C0C0\">Problem 1:</SPAN>** Imagine that the states {0, . . . , n-1} of a particular Markov chain are the nodes of a ring graph, with state 0 following state n-1.   Create a Markov_chain object for n=6 with inital state 0 (so x[0]=0 with probability one) with the following transition probabilities:  given X[t-1]=i, X[t] is equal to i with probability 0.8 and to i+1 (modulo n) with probability 0.2.\n",
    "<ol>\n",
    "<li> Print the first 100 states for a simulation of the chain.</li>\n",
    "<li> Simulate the chain for 10,000 time units, and calculate the number of complete revolutions the chain makes around the ring, divided by 10,000.  This is an estimate of the long term cycle rate for the Markov chain.  Repeat the experiment ten times to get an idea of the variation from one experiment to the next.</li>\n",
    "<li> Give an analytical argument for what the long term cycle rate for this Makov chain should be.</li>"
   ]
  },
  {
   "cell_type": "code",
   "execution_count": 3,
   "metadata": {},
   "outputs": [
    {
     "name": "stdout",
     "output_type": "stream",
     "text": [
      "first 100 simulation is  [0 0 0 0 0 0 0 0 0 1 1 1 1 1 1 1 1 1 2 2 2 2 2 2 2 2 3 3 3 3 3 3 3 3 4 4 4\n",
      " 4 5 5 5 5 0 0 0 0 0 0 0 1 1 1 1 1 1 1 1 2 2 2 2 2 2 3 3 3 3 3 4 4 4 5 5 5\n",
      " 0 0 0 0 1 1 1 1 2 2 2 3 4 4 4 5 5 0 0 1 1 1 1 2 2 2]\n",
      "0.0325\n",
      "0.0324\n",
      "0.0331\n",
      "0.0338\n",
      "0.0329\n",
      "0.0333\n",
      "0.0327\n",
      "0.0337\n",
      "0.0343\n",
      "0.0334\n",
      "the cycle rate is 0.0333\n"
     ]
    }
   ],
   "source": [
    "# Your code here\n",
    "P=np.array([[0.8,0.2,0,0,0,0],[0,0.8,0.2,0,0,0],[0,0,0.8,0.2,0,0],[0,0,0,0.8,0.2,0],[0,0,0,0,0.8,0.2],[0.2,0,0,0,0,0.8]])\n",
    "p0=np.array([1,0,0,0,0,0])\n",
    "\n",
    "m=Markov_chain(P,p0)\n",
    "print (\"first 100 simulation is \", m.rvs(100))\n",
    "\n",
    "for i in range(10):\n",
    "    cnt = 0\n",
    "    sim = m.rvs(10000)\n",
    "    for j in range(len(sim)-1):\n",
    "        if sim[j]-sim[j+1]==5:\n",
    "            cnt+=1\n",
    "    print (cnt/10000)\n",
    "    \n",
    "print ('the cycle rate is 0.0333')"
   ]
  },
  {
   "cell_type": "markdown",
   "metadata": {},
   "source": [
    "__Answer:__ (Your answer here)the length is 6 and the probability of transfer is 0.2, thus the ehoretical rate should be around 0.2/6 which is 0.0333"
   ]
  },
  {
   "cell_type": "markdown",
   "metadata": {},
   "source": [
    "**<SPAN style=\"BACKGROUND-COLOR: #C0C0C0\">End of Problem 1</SPAN>**"
   ]
  },
  {
   "cell_type": "markdown",
   "metadata": {},
   "source": [
    "## Markov Gibberish"
   ]
  },
  {
   "cell_type": "markdown",
   "metadata": {},
   "source": [
    "Let's look at some applications of a Markov Chain. When I was younger I remember using AIM (instant messenger) to talk to my friends. At some point people started to create bots which could hold conversations with users. Of course we had fun trying to get them to say things that didn't make sense, but the idea that it could generate somewhat relevant conversations was pretty cool. We're going to build a rudimentary version of that here. The code below generates text based on a large sample text, such that each word is generated based on the two words just before it.  The generated sequence of words is given by a 2-Markov chain (here \"2\" means that the distribution of the value of each word is determined by the two previous words, instead of just the one previous word).  That means that any three consecutive words in the generated text are also consecutive words somewhere in the sample text.   If words w1 w2 were the last two words added to the generated text string, then to generate the next word we look for all occurrences of w1 w2 as consecutive words in the sample text, and see what word was just after them for each occurrence.   The randomly generated text selects the next word to match one of those occurrences, selected at random with equal probability."
   ]
  },
  {
   "cell_type": "code",
   "execution_count": 4,
   "metadata": {},
   "outputs": [
    {
     "data": {
      "text/plain": [
       "'in lieu of a run of luck, and lost the last rose of summer, you can only collect a few of my brain ever since in an attitude of dignified detachment, the chump, when, if ever he should have known Wilmot better. I should like a bomb. \"Did you call, sir?\" \"Oh, there you are, Bertie,\" he said, \"you mustn\\'t waste time. Oh!\" He jumped at it in the city. It is my man, you know--is really a most interesting to watch. Made me wish I was letting myself in the middle of a refund. If you do not solicit contributions from'"
      ]
     },
     "execution_count": 4,
     "metadata": {},
     "output_type": "execute_result"
    }
   ],
   "source": [
    "# Based on http://agiliq.com/blog/2009/06/generating-pseudo-random-text-with-markov-chains-u/    --BH\n",
    "# Next word of random string is selected from possible word that follow the last two words.\n",
    "\n",
    "\n",
    "class Markov_text:\n",
    "    def __init__(self, open_file):   # The single parameter passed is a file handle\n",
    "        self.cache = {}  # Will be dictionary mapping a key (two consecutive words) to possible next word\n",
    "        self.open_file = open_file\n",
    "        self.words = self.file_to_words()  # Read the words from the file into array self.words\n",
    "        self.word_size = len(self.words)\n",
    "        self.database()   # Fill in the dictionary\n",
    "       \n",
    "       \n",
    "    def file_to_words(self):\n",
    "        self.open_file.seek(0)\n",
    "        data = self.open_file.read()\n",
    "        words = data.split()\n",
    "        return words\n",
    "           \n",
    "       \n",
    "    def triples(self):\n",
    "    #Generates triples from the given data string. So if our string were\n",
    "    # \"What a lovely day\", we'd generate (What, a, lovely) and then (a, lovely, day).\"\"\"\n",
    "           \n",
    "        if self.word_size < 3:\n",
    "            return\n",
    "         \n",
    "        for i in range(self.word_size - 2):\n",
    "            yield (self.words[i], self.words[i+1], self.words[i+2])    #Like return but returns a generator to be used once\n",
    "               \n",
    "    def database(self):\n",
    "        for w1, w2, w3 in self.triples():\n",
    "            key = (w1, w2)\n",
    "            if key in self.cache:\n",
    "                self.cache[key].append(w3)\n",
    "            else:\n",
    "                self.cache[key] = [w3]\n",
    "                         \n",
    "    def generate_markov_text(self, size=100):\n",
    "        seed = np.random.randint(0, self.word_size-3)\n",
    "        w1, w2 = self.words[seed], self.words[seed+1]  # Initial key is (w1,w2)\n",
    "        gen_words = [w1,w2]\n",
    "        for i in range(size):\n",
    "            w1, w2 = w2, np.random.choice(self.cache[(w1, w2)])\n",
    "            gen_words.append(w2)\n",
    "        return ' '.join(gen_words)\n",
    "                \n",
    "        \n",
    "        \n",
    "file_ = open('Jeeves.txt')\n",
    "markov = Markov_text(file_)   # Creates the object markov using the file\n",
    "markov.generate_markov_text()   # Generate random text\n",
    "\n",
    "# The above has a slight bug.   It is possible for the key to be the\n",
    "# last two words in the text file and have no entry in the dictionary.\n",
    "# This won't happen if the last two words in the text file appear\n",
    "# consecutively somewhere else in the file.   -BH"
   ]
  },
  {
   "cell_type": "markdown",
   "metadata": {},
   "source": [
    "With punctuation and everything, this initially looks like a bit of a mess. However, the sentences themselves are coming together and can make a little bit of sense. It is a very primitive version of those bots on instant messaging.\n",
    "\n",
    "<br>**<SPAN style=\"BACKGROUND-COLOR: #C0C0C0\">Problem 2:</SPAN>** Using the class above, do the following:\n",
    "<ol><li> Find your own text file or copy and paste from somewhere and use the text to create gibberish from that. To work well, your file really needs to contain a large amount of text. The \"Jeeves\" file was pulled from a short story. Print out your own 100 word gibberish paragraph based on the text file you used.</li>\n",
    "<li> Rewrite the code here to create a 1-Markov Chain of the words instead of the 2-Markov Chain given above. Print out your own 100 word gibberish paragraph from this.</li>\n",
    "<li> Rewrite the code here to create a 3-Markov Chain of the words instead of the 2-Markov Chain given above. Print out your own 100 word gibberish paragraph from this.</li>\n",
    "<li> Comment on the qualitative differences of your paragraphs using these methods.</li>"
   ]
  },
  {
   "cell_type": "code",
   "execution_count": 5,
   "metadata": {},
   "outputs": [
    {
     "name": "stdout",
     "output_type": "stream",
     "text": [
      "him, and had them working on the thing comfortably. Clarence can't grudge us the month, and narrow it down to George's state-room. \"George, old man!\" My voice shook. \"Would you care to name. It came to the conclusion that I didn't wonder at his meetings; so for you to suggest some way of distinguishing us. Do you know that Motty is essentially a home bird. Aren't you, Motty darling?\" Motty, who was sucking the knob of his that there was nobody at the piano, and I didn't come across them, but I was letting myself in the home. This was news to\n",
      " \n",
      "The more than that we to him. You would consist in the week. You can't think who hangs about dinner-time. I was a fat lot of the saloon. She broke loose network of _The Children's Book of way things of closing in for I had covered the young dream hits a damper on old Freddie, old Chiswick had been about three months ago Clarence were something seemed troubled. \"You _are_.\" \"Well, when I gave it was so sick when you know.\" The sleuth's eating kippers.\" \"That'll hold the fourth, that I hadn't been wasting your life scattering largesse to do it--when\n",
      " \n",
      "work is provided to you 'AS-IS' WITH NO OTHER WARRANTIES OF ANY KIND, EXPRESS OR IMPLIED, INCLUDING BUT NOT LIMITED TO WARRANTIES OF MERCHANTIBILITY OR FITNESS FOR ANY PURPOSE. 1.F.5. Some states do not allow disclaimers of certain implied warranties or the exclusion or limitation of certain types of damages. If any disclaimer or limitation permitted by the applicable state law. The invalidity or unenforceability of any provision of this agreement by keeping this work in any binary, compressed, marked up, nonproprietary or proprietary form, including any word processing or hypertext form. However, if you provide access to or distribute copies of a\n"
     ]
    }
   ],
   "source": [
    "# Your code here (add additional code cells if necessary)\n",
    "##########################################--Question I--########################################################################\n",
    "file_ = open('Jeeves.txt')\n",
    "m = Markov_text(file_)\n",
    "print (m.generate_markov_text())\n",
    "##########################################--Question II--#######################################################################\n",
    "print(\" \")\n",
    "class Markov_text_Chain:\n",
    "    def __init__(self,open_file):\n",
    "        self.cache = {}\n",
    "        self.open_file = open_file\n",
    "        self.words = self.file_to_words()\n",
    "        self.word_size=len(self.words)\n",
    "        self.database()\n",
    "        \n",
    "    def file_to_words(self):\n",
    "        self.open_file.seek(0)\n",
    "        data = self.open_file.read()\n",
    "        words = data.split()\n",
    "        return words\n",
    "    \n",
    "    def doubles(self):\n",
    "        if self.word_size < 2:\n",
    "            return\n",
    "        for i in range(self.word_size - 1):\n",
    "            yield (self.words[i],self.words[i+1])\n",
    "    \n",
    "    def database(self):\n",
    "        for w1,w2 in self.doubles():\n",
    "            key=(w1)\n",
    "            if key in self.cache:\n",
    "                self.cache[key].append(w2)\n",
    "            else:\n",
    "                self.cache[key] = [w2]\n",
    "            \n",
    "    def generate_markov_text(self,size=100):\n",
    "        seed = np.random.randint(0,self.word_size-2)\n",
    "        w1 = self.words[seed]\n",
    "        gen_words = [w1]\n",
    "        for i in range(size):\n",
    "            w1 = np.random.choice(self.cache[w1])\n",
    "            gen_words.append(w1)\n",
    "        return ' '.join(gen_words)\n",
    "    \n",
    "m1 = Markov_text_Chain(file_)\n",
    "print (m1.generate_markov_text())\n",
    "       \n",
    "##########################################--Question III--######################################################################\n",
    "print(' ')\n",
    "class Markov_text_x4:\n",
    "    def __init__(self,open_file):\n",
    "        self.cache = {}\n",
    "        self.open_file = open_file\n",
    "        self.words = self.file_to_words()\n",
    "        self.word_size=len(self.words)\n",
    "        self.database()   \n",
    "    \n",
    "    def file_to_words(self):\n",
    "        self.open_file.seek(0)\n",
    "        data = self.open_file.read()\n",
    "        words = data.split()\n",
    "        return words\n",
    "\n",
    "    def quads(self):\n",
    "        if self.word_size < 4:\n",
    "            return\n",
    "        for i in range(self.word_size - 3):\n",
    "            yield (self.words[i],self.words[i+1],self.words[i+2],self.words[i+3])\n",
    "    \n",
    "    def database(self):\n",
    "        for w1,w2,w3,w4 in self.quads():\n",
    "            key=(w1,w2,w3)\n",
    "            if key in self.cache:\n",
    "                self.cache[key].append(w4)\n",
    "            else:\n",
    "                self.cache[key] = [w4]\n",
    "        \n",
    "    def generate_markov_text(self,size=100):\n",
    "        seed=np.random.randint(0,self.word_size-4)\n",
    "        w1,w2,w3 =self.words[seed],self.words[seed+1],self.words[seed+2]\n",
    "        gen_words = [w1,w2,w3]\n",
    "        for i in range(size):\n",
    "            w1,w2,w3 = w2,w3,np.random.choice(self.cache[(w1,w2,w3)])\n",
    "            gen_words.append(w3)\n",
    "        return ' '.join(gen_words)\n",
    "m2 = Markov_text_x4(file_)\n",
    "print (m2.generate_markov_text())\n",
    "\n",
    "\n",
    "\n",
    "        "
   ]
  },
  {
   "cell_type": "markdown",
   "metadata": {},
   "source": [
    "__Answer:__ (Your answer here)\n",
    "the Q3 markov chain generates the most meaningful text due to every 4th is dependent on the previous 3.\n"
   ]
  },
  {
   "cell_type": "markdown",
   "metadata": {},
   "source": [
    "**<SPAN style=\"BACKGROUND-COLOR: #C0C0C0\">End of Problem 2</SPAN>**"
   ]
  },
  {
   "cell_type": "markdown",
   "metadata": {},
   "source": [
    "## Random Graphs and Working with Graphs"
   ]
  },
  {
   "cell_type": "markdown",
   "metadata": {},
   "source": [
    "Markov chains that are time independent and finite can be represented really well by graphs. I'm sure you've used finite state machines to describe processes or sequences in some of your other classes. They can also be useful in analyzing or describing networks. Networkx is an extensive Python package for generating and analyzing graphs (the kind with nodes and edges) and can also plot them.  The following code adapted from the networkx webpage generates a random undirected graph by placing nodes at random locations within the unit square and connecting nodes together if their distance is less than a specified threshold."
   ]
  },
  {
   "cell_type": "code",
   "execution_count": 6,
   "metadata": {
    "scrolled": false
   },
   "outputs": [
    {
     "name": "stdout",
     "output_type": "stream",
     "text": [
      "The center node is located at: 0.5033939408104298 , 0.5191057050858819\n",
      "The graph is not connected\n"
     ]
    },
    {
     "data": {
      "image/png": "[encoded data removed]",
      "text/plain": [
       "<Figure size 576x576 with 1 Axes>"
      ]
     },
     "metadata": {},
     "output_type": "display_data"
    }
   ],
   "source": [
    "#import networkx as nx  DEBUGGING\n",
    "\n",
    "d=0.16 # distance threshold, pairs of nodes within distance d are connected by an edge\n",
    "G=nx.random_geometric_graph(100,d)  #100 nodes in unit square, distance threshold d\n",
    "# position is stored as node attribute data for random_geometric_graph\n",
    "pos=nx.get_node_attributes(G,'pos')  # pos is a dictionary, with the indices as keys, ranging from 0 to 99\n",
    "\n",
    "# find node nearest to (0.5,0.5), called the center node\n",
    "dmin=1\n",
    "ncenter=0\n",
    "for n in pos:\n",
    "    x,y=pos[n]\n",
    "    d=(x-0.5)**2+(y-0.5)**2\n",
    "    if d<dmin:\n",
    "        ncenter=n\n",
    "        dmin=d\n",
    "\n",
    "print ('The center node is located at:', pos[ncenter][0], ',', pos[ncenter][1])\n",
    "# color by path length from node near center\n",
    "p=nx.single_source_shortest_path_length(G,ncenter)  #p is dictionary: keys are nodes, values are distances to center\n",
    "                                                    #Node not connected to the center node are not listed in p.\n",
    "                                                    # p include the center node itself.\n",
    "\n",
    "if nx.is_connected(G):   # The Networkx method is_connected checks for connectness\n",
    "    print (\"The graph is connected\")\n",
    "else: print (\"The graph is not connected\")\n",
    "\n",
    "plt.figure(figsize=(8,8))\n",
    "# nx.draw_networkx_edges(G,pos,nodelist=[ncenter],alpha=0.4)  #All edges are drwn\n",
    "nx.draw_networkx_edges(G,pos,alpha=0.4)  #All edges are drwn\n",
    "nx.draw_networkx_nodes(G,pos,alpha=0.3,node_size=80)  #All nodes are drawn but nearly transparent\n",
    "nx.draw_networkx_nodes(G,pos,nodelist=p.keys(),   # Nodes connected to center node are drawn, closer nodes have darker color\n",
    "                       node_size=80)\n",
    "\n",
    "plt.xlim(-0.05,1.05)\n",
    "plt.ylim(-0.05,1.05)\n",
    "plt.axis('off')\n",
    "plt.savefig('random_geometric_graph.png')\n",
    "plt.show()"
   ]
  },
  {
   "cell_type": "markdown",
   "metadata": {},
   "source": [
    "Excellent documentation for NetworkX is available online (search for NetworkX documentation). We find a plethora of classes for generating both undirected graphs (no arrows on the edges) and directed graphs.   Run the code in the above cell a few dozen times, and see how often the graph generated is *connected*, meaning that there is a path through the graph from any node to any other node.   One way a graph could be not connnected is to have an isolated node, which is a node with no neighbors.   Also, try changing the value of the threshold d and seeing the effect on connectivity.\n",
    "\n",
    "<br>**<SPAN style=\"BACKGROUND-COLOR: #C0C0C0\">Problem 3:</SPAN>**   Estimate the probability of connectivity for the above model (100 nodes at random locations in unit square with edges between pairs of nodes at distance d or smaller) for values of d in 0.10, 0.11, . . . , 0.20 by generating 1000 instances for each d and seeing the fraction of them that are connected. Is there a sort of threshold where the odds of a connected graph jumps significantly?"
   ]
  },
  {
   "cell_type": "code",
   "execution_count": 14,
   "metadata": {},
   "outputs": [
    {
     "name": "stdout",
     "output_type": "stream",
     "text": [
      "Threshold:  0.1 , Connected Probability:  0.0\n",
      "Threshold:  0.11 , Connected Probability:  0.0\n",
      "Threshold:  0.12 , Connected Probability:  0.0\n",
      "Threshold:  0.13 , Connected Probability:  0.017\n",
      "Threshold:  0.14 , Connected Probability:  0.098\n",
      "Threshold:  0.15 , Connected Probability:  0.274\n",
      "Threshold:  0.16 , Connected Probability:  0.51\n",
      "Threshold:  0.17 , Connected Probability:  0.671\n",
      "Threshold:  0.18 , Connected Probability:  0.805\n",
      "Threshold:  0.19 , Connected Probability:  0.879\n",
      "Threshold:  0.2 , Connected Probability:  0.918\n"
     ]
    }
   ],
   "source": [
    "# Your code here\n",
    "for i in range(100,210,10):\n",
    "    c = 0\n",
    "    d = i/1000.\n",
    "    for j in range(1000):\n",
    "        G=nx.random_geometric_graph(100,d)\n",
    "        if nx.is_connected(G):\n",
    "            c += 1\n",
    "    print ('Threshold: ', d, ', Connected Probability: ', c/1000)"
   ]
  },
  {
   "cell_type": "markdown",
   "metadata": {},
   "source": [
    "__Answer:__ (Your answer here)there is a jump in probability from 0.15 to 0.16\n",
    "\n"
   ]
  },
  {
   "cell_type": "markdown",
   "metadata": {},
   "source": [
    "**<SPAN style=\"BACKGROUND-COLOR: #C0C0C0\">End of Problem 3</SPAN>**"
   ]
  },
  {
   "cell_type": "markdown",
   "metadata": {},
   "source": [
    "The probability of connectivity can be approximately computed analytically as follows.  You might have noticed in the simulations that the main cause of disconnectivity is having at least one isolated node (no neighbors).\n",
    "\n",
    "<br>**<SPAN style=\"BACKGROUND-COLOR: #C0C0C0\">Problem 4:</SPAN>**   Consider the same model.  Imagine that 100 nodes, numbered from 1 to 100, are independently placed in the unit square with a uniform distribution for each node, and then edges are placed between pairs of nodes at distance d or smaller.  Except for the second half of the fourth part below, your answers should be an expression involving $d.$   No computation is required.\n",
    "<ol><li> Focus on node 1. Suppose for simplicity it is not near the boundary of the square, so the entire disk of radius $d$ around the node is in the square.   What is the probability that a given other node (say, node 2) is *not* within distance $d$ of node 1?\n",
    "<li>  What is the probability node 1 is isolated (i.e. *none* of the other nodes is within distance $d$ of node 1)?\n",
    "<li>  What is the expected number of isolated nodes?\n",
    "<li>  Assume (this is a reasonable approximation) the total number of isolated nodes has the Poisson distribution with mean given by the answer to the previous problem part.   What is the probability that there are no isolated nodes?\n",
    "Compute the numerical values for  d in 0.10, 0.11, . . . , 0.20 and compare to the estimated probability the\n",
    "graph is connected in Problem 3. </ol>"
   ]
  },
  {
   "cell_type": "markdown",
   "metadata": {
    "collapsed": true
   },
   "source": [
    "__Answer:__ (Your answer here)\n",
    "Q1: the probability of not with in distance d of node 1 is remainin garea over total area.\n",
    "\n",
    "Q2: the probability of node 1 being isolated is (1-pi*d**2)**99\n",
    "\n",
    "Q3: the expected value of isolated nodes are 100*(1-pi*d**2)**99\n",
    "\n",
    "Q4: printed results\n"
   ]
  },
  {
   "cell_type": "code",
   "execution_count": 15,
   "metadata": {},
   "outputs": [
    {
     "name": "stdout",
     "output_type": "stream",
     "text": [
      "at distance  0.1 expected isolated nodees 69.56336612854996\n",
      "at distance  0.11 expected isolated nodees 8.64039263327809\n",
      "at distance  0.12000000000000001 expected isolated nodees 2.7795608125539446\n",
      "at distance  0.13 expected isolated nodees 1.570293359991376\n",
      "at distance  0.14 expected isolated nodees 1.2034111065918358\n",
      "at distance  0.15000000000000002 expected isolated nodees 1.0730278543839975\n",
      "at distance  0.16 expected isolated nodees 1.0251503502107444\n",
      "at distance  0.17 expected isolated nodees 1.008117401315525\n",
      "at distance  0.18 expected isolated nodees 1.002426900385431\n",
      "at distance  0.19 expected isolated nodees 1.000667778601529\n",
      "at distance  0.2 expected isolated nodees 1.0001683482816441\n"
     ]
    }
   ],
   "source": [
    "# Your code here (if necessary)\n",
    "from math import pi,e\n",
    "for d in np.linspace(0.1,0.2,11):\n",
    "    p = e**(100*(1-pi*d**2)**99)\n",
    "    print ('at distance ',d , 'expected isolated nodees', p)"
   ]
  },
  {
   "cell_type": "markdown",
   "metadata": {},
   "source": [
    "**<SPAN style=\"BACKGROUND-COLOR: #C0C0C0\">End of Problem 4</SPAN>**"
   ]
  },
  {
   "cell_type": "markdown",
   "metadata": {},
   "source": [
    "## Lab Questions:"
   ]
  },
  {
   "cell_type": "markdown",
   "metadata": {},
   "source": [
    "Make sure to complete all lab questions 1-4 for this weeks lab."
   ]
  },
  {
   "cell_type": "markdown",
   "metadata": {},
   "source": [
    "<div class=\"alert alert-block alert-warning\"> \n",
    "## Academic Integrity Statement ##\n",
    "\n",
    "By submitting the lab with this statement, you declare you have written up the lab entirely by yourself, including both code and markdown cells. You also agree that you should not share your code with anyone else. Any violation of the academic integrity requirement may cause an academic integrity report to be filed that could go into your student record. See <a href=\"https://provost.illinois.edu/policies/policies/academic-integrity/students-quick-reference-guide-to-academic-integrity/\">Students' Quick Reference Guide to Academic Integrity</a> for more information. "
   ]
  }
 ],
 "metadata": {
  "anaconda-cloud": {},
  "kernelspec": {
   "display_name": "Python 3",
   "language": "python",
   "name": "python3"
  },
  "language_info": {
   "codemirror_mode": {
    "name": "ipython",
    "version": 3
   },
   "file_extension": ".py",
   "mimetype": "text/x-python",
   "name": "python",
   "nbconvert_exporter": "python",
   "pygments_lexer": "ipython3",
   "version": "3.8.8"
  }
 },
 "nbformat": 4,
 "nbformat_minor": 1
}
